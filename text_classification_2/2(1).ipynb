{
 "metadata": {
  "language_info": {
   "codemirror_mode": {
    "name": "ipython",
    "version": 3
   },
   "file_extension": ".py",
   "mimetype": "text/x-python",
   "name": "python",
   "nbconvert_exporter": "python",
   "pygments_lexer": "ipython3",
   "version": "3.8.3-final"
  },
  "orig_nbformat": 2,
  "kernelspec": {
   "name": "python3",
   "language": "python",
   "display_name": "Python 3"
  },
  "pycharm": {
   "stem_cell": {
    "cell_type": "raw",
    "source": [],
    "metadata": {
     "collapsed": false
    }
   }
  }
 },
 "nbformat": 4,
 "nbformat_minor": 2,
 "cells": [
  {
   "source": [
    "# 实验2"
   ],
   "cell_type": "markdown",
   "metadata": {}
  },
  {
   "cell_type": "code",
   "execution_count": 5,
   "metadata": {
    "pycharm": {
     "is_executing": false
    }
   },
   "outputs": [],
   "source": [
    "import time\n",
    "import random\n",
    "import re\n",
    "import warnings\n",
    "import numpy as np\n",
    "\n",
    "import jieba\n",
    "from keras.preprocessing.text import Tokenizer\n",
    "from keras.preprocessing.sequence import pad_sequences\n",
    "from keras.models import Sequential\n",
    "from keras.layers import Dense, LSTM, Embedding, Dropout, Conv1D, MaxPooling1D, Bidirectional\n",
    "\n",
    "import os\n",
    "os.environ[\"CUDA_VISIBLE_DEVICES\"] = \"-1\"\n",
    "warnings.filterwarnings(\"ignore\")"
   ]
  },
  {
   "source": [
    "## 1. 数据预处理"
   ],
   "cell_type": "markdown",
   "metadata": {}
  },
  {
   "source": [
    "### 1.1 加载label"
   ],
   "cell_type": "markdown",
   "metadata": {}
  },
  {
   "cell_type": "code",
   "execution_count": 10,
   "metadata": {
    "tags": [],
    "pycharm": {
     "is_executing": false
    }
   },
   "outputs": [],
   "source": [
    "labels = []\n",
    "labels_list = []\n",
    "with open('./label.txt', 'r', encoding='UTF-8') as f:\n",
    "    for line in f:\n",
    "        labels.append(eval(line))\n",
    "        labels_list.extend(eval(line))"
   ]
  },
  {
   "cell_type": "code",
   "execution_count": 11,
   "metadata": {
    "pycharm": {
     "is_executing": false
    }
   },
   "outputs": [
    {
     "data": {
      "text/plain": "233"
     },
     "metadata": {},
     "output_type": "execute_result",
     "execution_count": 11
    }
   ],
   "source": [
    "labels_list = dict(enumerate(set(labels_list)))\n",
    "labels_list = {value:key for key,value in labels_list.items()}\n",
    "labels_len = len(labels_list)\n",
    "labels_len"
   ]
  },
  {
   "source": [
    "总共233个类别"
   ],
   "cell_type": "markdown",
   "metadata": {}
  },
  {
   "cell_type": "code",
   "execution_count": 4,
   "metadata": {},
   "outputs": [
    {
     "output_type": "execute_result",
     "data": {
      "text/plain": [
       "[[],\n",
       " ['产品价格', '产品销量', '公司营销'],\n",
       " ['季度报告'],\n",
       " ['股票市场', 'A股'],\n",
       " ['IPO'],\n",
       " ['行业未来前景', '季度报告'],\n",
       " ['股票市场', 'A股'],\n",
       " ['公司业务数据', '业绩快报', '财务绩效'],\n",
       " ['政府征求意见'],\n",
       " []]"
      ]
     },
     "metadata": {},
     "execution_count": 4
    }
   ],
   "source": [
    "labels[:10]"
   ]
  },
  {
   "cell_type": "code",
   "execution_count": 12,
   "metadata": {
    "pycharm": {
     "is_executing": false
    }
   },
   "outputs": [
    {
     "data": {
      "text/plain": "60158"
     },
     "metadata": {},
     "output_type": "execute_result",
     "execution_count": 12
    }
   ],
   "source": [
    "len(labels)"
   ]
  },
  {
   "source": [
    "### 1.2 加载title"
   ],
   "cell_type": "markdown",
   "metadata": {}
  },
  {
   "cell_type": "code",
   "execution_count": 7,
   "metadata": {
    "pycharm": {
     "is_executing": false
    }
   },
   "outputs": [
    {
     "traceback": [
      "\u001b[1;31m---------------------------------------------------------------------------\u001b[0m",
      "\u001b[1;31mFileNotFoundError\u001b[0m                         Traceback (most recent call last)",
      "\u001b[1;32m<ipython-input-7-a9eb7e5338d7>\u001b[0m in \u001b[0;36m<module>\u001b[1;34m()\u001b[0m\n\u001b[0;32m      1\u001b[0m \u001b[1;33m\u001b[0m\u001b[0m\n\u001b[0;32m      2\u001b[0m \u001b[0mtitles\u001b[0m \u001b[1;33m=\u001b[0m \u001b[1;33m[\u001b[0m\u001b[1;33m]\u001b[0m\u001b[1;33m\u001b[0m\u001b[1;33m\u001b[0m\u001b[0m\n\u001b[1;32m----> 3\u001b[1;33m \u001b[1;32mwith\u001b[0m \u001b[0mopen\u001b[0m\u001b[1;33m(\u001b[0m\u001b[1;34m'./title.txt'\u001b[0m\u001b[1;33m,\u001b[0m \u001b[1;34m'r'\u001b[0m\u001b[1;33m,\u001b[0m \u001b[0mencoding\u001b[0m\u001b[1;33m=\u001b[0m\u001b[1;34m'UTF-8'\u001b[0m\u001b[1;33m)\u001b[0m \u001b[1;32mas\u001b[0m \u001b[0mf\u001b[0m\u001b[1;33m:\u001b[0m\u001b[1;33m\u001b[0m\u001b[1;33m\u001b[0m\u001b[0m\n\u001b[0m\u001b[0;32m      4\u001b[0m     \u001b[1;32mfor\u001b[0m \u001b[0mline\u001b[0m \u001b[1;32min\u001b[0m \u001b[0mf\u001b[0m\u001b[1;33m:\u001b[0m\u001b[1;33m\u001b[0m\u001b[1;33m\u001b[0m\u001b[0m\n\u001b[0;32m      5\u001b[0m         \u001b[0mtitles\u001b[0m\u001b[1;33m.\u001b[0m\u001b[0mappend\u001b[0m\u001b[1;33m(\u001b[0m\u001b[0mline\u001b[0m\u001b[1;33m.\u001b[0m\u001b[0mstrip\u001b[0m\u001b[1;33m(\u001b[0m\u001b[1;33m)\u001b[0m\u001b[1;33m.\u001b[0m\u001b[0mstrip\u001b[0m\u001b[1;33m(\u001b[0m\u001b[1;34m'\"'\u001b[0m\u001b[1;33m)\u001b[0m\u001b[1;33m)\u001b[0m\u001b[1;33m\u001b[0m\u001b[1;33m\u001b[0m\u001b[0m\n",
      "\u001b[1;31mFileNotFoundError\u001b[0m: [Errno 2] No such file or directory: './title.txt'"
     ],
     "ename": "FileNotFoundError",
     "evalue": "[Errno 2] No such file or directory: './title.txt'",
     "output_type": "error"
    }
   ],
   "source": [
    "titles = []\n",
    "with open('./title.txt', 'r', encoding='UTF-8') as f:\n",
    "    for line in f:\n",
    "        titles.append(line.strip().strip('\"'))"
   ]
  },
  {
   "cell_type": "code",
   "execution_count": 7,
   "metadata": {},
   "outputs": [
    {
     "output_type": "execute_result",
     "data": {
      "text/plain": [
       "['唯品会的特卖之道',\n",
       " '苏宁超市双十一暴涨287%，吃喝不愁更不在乎价格',\n",
       " '信而富去年亏损6658万美元，称正有序退出网贷业务',\n",
       " '快讯：得利斯跌停  报于9.55元',\n",
       " '三启赴港上市路 十二年“恩怨情仇” 阿里巴巴终圆梦香港',\n",
       " '新能源车产业链Q3盈利能力：动力电池最强 资源最弱',\n",
       " '国元证券：预估甬金股份发行价22.52元 对应市盈率16.24倍',\n",
       " '国信证券：腾讯控股新业务发展快速，广告下行',\n",
       " '图解“股票定向发行规则（征求意见稿）”',\n",
       " '曾鸣：创业的每一天，都是悬崖边的狂欢！']"
      ]
     },
     "metadata": {},
     "execution_count": 7
    }
   ],
   "source": [
    "titles[:10]"
   ]
  },
  {
   "cell_type": "code",
   "execution_count": 8,
   "metadata": {},
   "outputs": [
    {
     "output_type": "execute_result",
     "data": {
      "text/plain": [
       "60158"
      ]
     },
     "metadata": {},
     "execution_count": 8
    }
   ],
   "source": [
    "len(titles)"
   ]
  },
  {
   "source": [
    "### 1.3 加载content"
   ],
   "cell_type": "markdown",
   "metadata": {}
  },
  {
   "cell_type": "code",
   "execution_count": 6,
   "metadata": {
    "tags": [],
    "pycharm": {
     "is_executing": false
    }
   },
   "outputs": [],
   "source": [
    "contents = []\n",
    "with open('./content.txt', 'r', encoding='UTF-8') as f:\n",
    "    for line in f:\n",
    "        if line != \"\\n\":\n",
    "            contents.append(re.split(r'[\\s, ######, 。, ！]',line.strip('\"').strip()))"
   ]
  },
  {
   "cell_type": "code",
   "execution_count": 10,
   "metadata": {},
   "outputs": [
    {
     "output_type": "execute_result",
     "data": {
      "text/plain": [
       "['第一网贷讯',\n",
       " '11月13日，迟迟未公布2018年财报的信而富(XRF.N)发布2018年财报',\n",
       " '2018年，公司实现收入6661.9万美元，较2017年减少2110万美元；亏损为6558.5万美元，2017年亏损3647.9万元',\n",
       " '',\n",
       " '',\n",
       " '',\n",
       " '',\n",
       " '',\n",
       " '',\n",
       " '']"
      ]
     },
     "metadata": {},
     "execution_count": 10
    }
   ],
   "source": [
    "contents[2][:10]"
   ]
  },
  {
   "cell_type": "code",
   "execution_count": 11,
   "metadata": {},
   "outputs": [
    {
     "output_type": "execute_result",
     "data": {
      "text/plain": [
       "60158"
      ]
     },
     "metadata": {},
     "execution_count": 11
    }
   ],
   "source": [
    "len(contents)"
   ]
  },
  {
   "source": [
    "### 1.4 分词、去除停用词"
   ],
   "cell_type": "markdown",
   "metadata": {}
  },
  {
   "cell_type": "code",
   "execution_count": 12,
   "metadata": {},
   "outputs": [
    {
     "output_type": "execute_result",
     "data": {
      "text/plain": [
       "'年月日去除空格和换行符的方法一去除空格用后边的串替换掉前边的'"
      ]
     },
     "metadata": {},
     "execution_count": 12
    }
   ],
   "source": [
    "line = \"2019年1月3日 - python去除空格和换行符的方法 一、去除空格 strip().strip() # ...用replace('\\',''),后边的串替换掉前边的posted @ 2016-07-18 08:53 ...\"\n",
    "pattern = re.compile(r'[^\\u4e00-\\u9fa5]')\n",
    "chinese = re.sub(pattern, '', line)\n",
    "chinese"
   ]
  },
  {
   "cell_type": "code",
   "execution_count": 13,
   "metadata": {
    "pycharm": {
     "is_executing": false
    }
   },
   "outputs": [
    {
     "name": "stdout",
     "text": [
      "60158\n"
     ],
     "output_type": "stream"
    }
   ],
   "source": [
    "length = len(labels)\n",
    "print(length)\n",
    "stopwords = [line.strip() for line in open('./stopwords.txt', 'r', encoding='utf-8').readlines()]\n",
    "X = []\n",
    "y = []\n",
    "array_zero = [0 for index in range(length)]\n",
    "pattern = re.compile(r'[^\\u4e00-\\u9fa5]')\n",
    "Contents = []"
   ]
  },
  {
   "cell_type": "code",
   "execution_count": 14,
   "metadata": {
    "tags": [],
    "pycharm": {
     "is_executing": false
    }
   },
   "outputs": [],
   "source": [
    "for content in contents:\n",
    "    Content = []\n",
    "    for c in content:\n",
    "        c = re.sub(pattern, '', c)\n",
    "        # print(c)\n",
    "        if len(c) > 500:\n",
    "            # print(len(c))\n",
    "            c = c[:500]\n",
    "        # 如果处理后为空 直接跳过\n",
    "        if c == \"\":\n",
    "            continue\n",
    "        Content.append(c)\n",
    "    Contents.append(Content)"
   ]
  },
  {
   "cell_type": "code",
   "execution_count": 15,
   "metadata": {},
   "outputs": [
    {
     "output_type": "execute_result",
     "data": {
      "text/plain": [
       "['产品整合年月出乎意料的是公司宣布将完全脱离磨床业务该项业务被出售给隶属于柯尔柏集团公司的斯来福林集团瓦尔特公司近年的漫长和高度成功的磨床制造历史宣告结束',\n",
       " '第二年随着推出采用涂层的',\n",
       " '老虎可转位刀片更有力的证明了企业的创新力再次为刀具寿命和生产效率设立了新标准',\n",
       " '公司步入世纪如果说百年的丰富经验主要强化了公司在高性能钻头领域的新优势那么则是为公司深化了研发上的特殊能力',\n",
       " '从此以后瓦尔特集团的这两个新成员分别以瓦尔特蒂泰克斯']"
      ]
     },
     "metadata": {},
     "execution_count": 15
    }
   ],
   "source": [
    "Contents[30000][:5]"
   ]
  },
  {
   "cell_type": "code",
   "execution_count": 15,
   "metadata": {
    "tags": [],
    "pycharm": {
     "is_executing": false
    }
   },
   "outputs": [
    {
     "traceback": [
      "\u001b[1;31m---------------------------------------------------------------------------\u001b[0m",
      "\u001b[1;31mIndexError\u001b[0m                                Traceback (most recent call last)",
      "\u001b[1;32m<ipython-input-15-88d883c6507e>\u001b[0m in \u001b[0;36m<module>\u001b[1;34m()\u001b[0m\n\u001b[0;32m      9\u001b[0m \u001b[1;33m\u001b[0m\u001b[0m\n\u001b[0;32m     10\u001b[0m     \u001b[1;31m# 分词\u001b[0m\u001b[1;33m\u001b[0m\u001b[1;33m\u001b[0m\u001b[1;33m\u001b[0m\u001b[0m\n\u001b[1;32m---> 11\u001b[1;33m     \u001b[0mcons\u001b[0m \u001b[1;33m=\u001b[0m \u001b[0mjieba\u001b[0m\u001b[1;33m.\u001b[0m\u001b[0mlcut\u001b[0m\u001b[1;33m(\u001b[0m\u001b[0mtitles\u001b[0m\u001b[1;33m[\u001b[0m\u001b[0mi\u001b[0m\u001b[1;33m]\u001b[0m\u001b[1;33m,\u001b[0m \u001b[0mcut_all\u001b[0m\u001b[1;33m=\u001b[0m\u001b[1;32mFalse\u001b[0m\u001b[1;33m)\u001b[0m\u001b[1;33m\u001b[0m\u001b[1;33m\u001b[0m\u001b[0m\n\u001b[0m\u001b[0;32m     12\u001b[0m     \u001b[1;32mfor\u001b[0m \u001b[0mc\u001b[0m \u001b[1;32min\u001b[0m \u001b[0mContents\u001b[0m\u001b[1;33m[\u001b[0m\u001b[0mi\u001b[0m\u001b[1;33m]\u001b[0m\u001b[1;33m:\u001b[0m\u001b[1;33m\u001b[0m\u001b[1;33m\u001b[0m\u001b[0m\n\u001b[0;32m     13\u001b[0m         \u001b[0mcons\u001b[0m\u001b[1;33m.\u001b[0m\u001b[0mextend\u001b[0m\u001b[1;33m(\u001b[0m\u001b[0mjieba\u001b[0m\u001b[1;33m.\u001b[0m\u001b[0mlcut\u001b[0m\u001b[1;33m(\u001b[0m\u001b[0mc\u001b[0m\u001b[1;33m,\u001b[0m \u001b[0mcut_all\u001b[0m\u001b[1;33m=\u001b[0m\u001b[1;32mFalse\u001b[0m\u001b[1;33m)\u001b[0m\u001b[1;33m)\u001b[0m\u001b[1;33m\u001b[0m\u001b[1;33m\u001b[0m\u001b[0m\n",
      "\u001b[1;31mIndexError\u001b[0m: list index out of range"
     ],
     "ename": "IndexError",
     "evalue": "list index out of range",
     "output_type": "error"
    }
   ],
   "source": [
    "for i in range(length):\n",
    "    if labels[i] == []:\n",
    "        continue\n",
    "    tmp = []\n",
    "    for label in labels[i]:\n",
    "        tmp.append(labels_list[label])\n",
    "    y.append(tmp)\n",
    "    \n",
    "    # 分词\n",
    "    cons = jieba.lcut(titles[i], cut_all=False)\n",
    "    for c in Contents[i]:\n",
    "        cons.extend(jieba.lcut(c, cut_all=False))\n",
    "    x = []\n",
    "    # 去除停用词\n",
    "    for con in cons:\n",
    "        if con not in stopwords:\n",
    "            x.append(con)\n",
    "    X.append(x)"
   ]
  },
  {
   "cell_type": "code",
   "execution_count": 17,
   "metadata": {},
   "outputs": [
    {
     "output_type": "stream",
     "name": "stdout",
     "text": [
      "54140 54140\n"
     ]
    }
   ],
   "source": [
    "print(len(X),len(y))"
   ]
  },
  {
   "cell_type": "code",
   "execution_count": 18,
   "metadata": {
    "tags": []
   },
   "outputs": [],
   "source": [
    "f_X = open('./X.txt','w', encoding='utf-8')\n",
    "for tmps in X:#ARTICLES\n",
    "    for tmp in tmps:\n",
    "        # print(tmp)\n",
    "        f_X.write(\"{} \".format(tmp))\n",
    "    f_X.write(\"\\n\")\n",
    "f_X.close()\n",
    "\n",
    "f_Y = open('./Y.txt','w', encoding='utf-8')\n",
    "for tmps in y:#LABELS\n",
    "    for tmp in tmps:\n",
    "        # print(tmp)\n",
    "        f_Y.write(\"{} \".format(tmp))\n",
    "    f_Y.write(\"\\n\")\n",
    "f_Y.close()"
   ]
  },
  {
   "cell_type": "code",
   "execution_count": 20,
   "metadata": {},
   "outputs": [
    {
     "output_type": "execute_result",
     "data": {
      "text/plain": [
       "12560"
      ]
     },
     "metadata": {},
     "execution_count": 20
    }
   ],
   "source": [
    "tmp_len = 0\n",
    "for x in X:\n",
    "    tmp_len = max(tmp_len, len(x))\n",
    "tmp_len"
   ]
  }
 ]
}