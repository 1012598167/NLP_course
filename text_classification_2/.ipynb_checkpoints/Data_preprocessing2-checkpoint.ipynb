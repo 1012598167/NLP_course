{
 "cells": [
  {
   "cell_type": "markdown",
   "metadata": {},
   "source": [
    "# 实验2"
   ]
  },
  {
   "cell_type": "code",
   "execution_count": 1,
   "metadata": {},
   "outputs": [],
   "source": [
    "import time\n",
    "import random\n",
    "import re\n",
    "import warnings\n",
    "import pandas as pd\n",
    "import numpy as np\n",
    "import matplotlib.pyplot as plt\n",
    "import seaborn as sns\n",
    "\n",
    "import jieba\n",
    "import jieba.analyse\n",
    "%matplotlib inline"
   ]
  },
  {
   "cell_type": "markdown",
   "metadata": {},
   "source": [
    "## 1. 数据预处理"
   ]
  },
  {
   "cell_type": "markdown",
   "metadata": {},
   "source": [
    "### 1.1 加载label"
   ]
  },
  {
   "cell_type": "code",
   "execution_count": 2,
   "metadata": {
    "tags": []
   },
   "outputs": [],
   "source": [
    "labels = []\n",
    "labels_list = []\n",
    "with open('./label.txt', 'r', encoding='UTF-8') as f:\n",
    "    for line in f:\n",
    "        labels.append(eval(line))\n",
    "        labels_list.extend(eval(line))"
   ]
  },
  {
   "cell_type": "code",
   "execution_count": 3,
   "metadata": {},
   "outputs": [],
   "source": [
    "label_statistics = {}\n",
    "for i in labels_list:\n",
    "    if i not in label_statistics.keys():\n",
    "        label_statistics[i] = 1\n",
    "    else:\n",
    "        label_statistics[i] += 1"
   ]
  },
  {
   "cell_type": "code",
   "execution_count": 4,
   "metadata": {},
   "outputs": [
    {
     "name": "stdout",
     "output_type": "stream",
     "text": [
      "6\n"
     ]
    }
   ],
   "source": [
    "label_statistics = dict(sorted(label_statistics.items(), key=lambda d:d[1], reverse = True))\n",
    "labels_list = []\n",
    "for i in label_statistics.keys():\n",
    "    if label_statistics[i] > 3000:\n",
    "        labels_list.append(i)\n",
    "print(len(labels_list))"
   ]
  },
  {
   "cell_type": "code",
   "execution_count": 5,
   "metadata": {},
   "outputs": [
    {
     "data": {
      "text/plain": [
       "6"
      ]
     },
     "execution_count": 5,
     "metadata": {},
     "output_type": "execute_result"
    }
   ],
   "source": [
    "labels_list = dict(enumerate(set(labels_list)))\n",
    "labels_list = {value:key for key,value in labels_list.items()}\n",
    "labels_len = len(labels_list)\n",
    "labels_len"
   ]
  },
  {
   "cell_type": "markdown",
   "metadata": {},
   "source": [
    "总共选取35个类别"
   ]
  },
  {
   "cell_type": "code",
   "execution_count": 6,
   "metadata": {},
   "outputs": [
    {
     "data": {
      "text/plain": [
       "60158"
      ]
     },
     "execution_count": 6,
     "metadata": {},
     "output_type": "execute_result"
    }
   ],
   "source": [
    "len(labels)"
   ]
  },
  {
   "cell_type": "markdown",
   "metadata": {},
   "source": [
    "### 1.2 加载title"
   ]
  },
  {
   "cell_type": "code",
   "execution_count": 7,
   "metadata": {},
   "outputs": [],
   "source": [
    "titles = []\n",
    "with open('./title.txt', 'r', encoding='UTF-8') as f:\n",
    "    for line in f:\n",
    "        titles.append(line.strip().strip('\"'))"
   ]
  },
  {
   "cell_type": "code",
   "execution_count": 8,
   "metadata": {},
   "outputs": [
    {
     "data": {
      "text/plain": [
       "['唯品会的特卖之道',\n",
       " '苏宁超市双十一暴涨287%，吃喝不愁更不在乎价格',\n",
       " '信而富去年亏损6658万美元，称正有序退出网贷业务',\n",
       " '快讯：得利斯跌停  报于9.55元',\n",
       " '三启赴港上市路 十二年“恩怨情仇” 阿里巴巴终圆梦香港',\n",
       " '新能源车产业链Q3盈利能力：动力电池最强 资源最弱',\n",
       " '国元证券：预估甬金股份发行价22.52元 对应市盈率16.24倍',\n",
       " '国信证券：腾讯控股新业务发展快速，广告下行',\n",
       " '图解“股票定向发行规则（征求意见稿）”',\n",
       " '曾鸣：创业的每一天，都是悬崖边的狂欢！']"
      ]
     },
     "execution_count": 8,
     "metadata": {},
     "output_type": "execute_result"
    }
   ],
   "source": [
    "titles[:10]"
   ]
  },
  {
   "cell_type": "code",
   "execution_count": 9,
   "metadata": {},
   "outputs": [
    {
     "data": {
      "text/plain": [
       "60158"
      ]
     },
     "execution_count": 9,
     "metadata": {},
     "output_type": "execute_result"
    }
   ],
   "source": [
    "len(titles)"
   ]
  },
  {
   "cell_type": "markdown",
   "metadata": {},
   "source": [
    "### 1.3 加载content"
   ]
  },
  {
   "cell_type": "code",
   "execution_count": 10,
   "metadata": {
    "tags": []
   },
   "outputs": [],
   "source": [
    "contents = []\n",
    "with open('./content.txt', 'r', encoding='UTF-8') as f:\n",
    "    for line in f:\n",
    "        if line != \"\\n\":\n",
    "            contents.append(re.split(r'[\\s。！]',re.sub('######', '', line).strip('\"').strip()))"
   ]
  },
  {
   "cell_type": "code",
   "execution_count": 11,
   "metadata": {},
   "outputs": [
    {
     "data": {
      "text/plain": [
       "['第一网贷讯',\n",
       " '11月13日，迟迟未公布2018年财报的信而富(XRF.N)发布2018年财报',\n",
       " '2018年，公司实现收入6661.9万美元，较2017年减少2110万美元；亏损为6558.5万美元，2017年亏损3647.9万元',\n",
       " '',\n",
       " '与此同时，11月14日晚间，信而富在其官方微信发布《有关延迟提交2018年年度审计报告（F-20）和其他事项的问题回答》的公告',\n",
       " '',\n",
       " '公告指出，',\n",
       " '公司之所以',\n",
       " '延迟提交2018年度报告（20F）文件，是因为这一年公司经历了更换首席财务官和更换审计师的过程',\n",
       " '与此同时，应监管要求，公司必须提供大量汇报材料，并参加监管有关的各种会议，这些工作占据了管理层大量的时间']"
      ]
     },
     "execution_count": 11,
     "metadata": {},
     "output_type": "execute_result"
    }
   ],
   "source": [
    "contents[2][:10]"
   ]
  },
  {
   "cell_type": "code",
   "execution_count": 12,
   "metadata": {},
   "outputs": [
    {
     "data": {
      "text/plain": [
       "60158"
      ]
     },
     "execution_count": 12,
     "metadata": {},
     "output_type": "execute_result"
    }
   ],
   "source": [
    "len(contents)"
   ]
  },
  {
   "cell_type": "markdown",
   "metadata": {},
   "source": [
    "### 1.4 分词、去除停用词"
   ]
  },
  {
   "cell_type": "code",
   "execution_count": 13,
   "metadata": {},
   "outputs": [
    {
     "data": {
      "text/plain": [
       "'年月日去除空格和换行符的方法一去除空格用后边的串替换掉前边的'"
      ]
     },
     "execution_count": 13,
     "metadata": {},
     "output_type": "execute_result"
    }
   ],
   "source": [
    "line = \"2019年1月3日 - python去除空格和换行符的方法 一、去除空格 strip().strip() # ...用replace('\\',''),后边的串替换掉前边的posted @ 2016-07-18 08:53 ...\"\n",
    "pattern = re.compile(r'[^\\u4e00-\\u9fa5]')\n",
    "chinese = re.sub(pattern, '', line)\n",
    "chinese"
   ]
  },
  {
   "cell_type": "code",
   "execution_count": 14,
   "metadata": {},
   "outputs": [],
   "source": [
    "length = len(labels)\n",
    "stopwords = [line.strip() for line in open('./stopwords.txt', 'r', encoding='utf-8').readlines()]\n",
    "X = []\n",
    "y = []\n",
    "array_zero = [0 for index in range(length)]\n",
    "pattern = re.compile(r'[^\\u4e00-\\u9fa5]')\n",
    "Contents = []"
   ]
  },
  {
   "cell_type": "code",
   "execution_count": 15,
   "metadata": {
    "tags": []
   },
   "outputs": [],
   "source": [
    "for content in contents:\n",
    "    Content = []\n",
    "    for c in content:\n",
    "        c = re.sub(pattern, '', c)\n",
    "        # print(c)\n",
    "        # if len(c) > 500:\n",
    "        #     c = c[:500]\n",
    "        # 如果处理后为空 直接跳过\n",
    "        if c == \"\":\n",
    "            continue\n",
    "        Content.append(c)\n",
    "        # 保留20句就够了\n",
    "        # if len(Content) > 20:\n",
    "        #     break\n",
    "    Contents.append(Content)"
   ]
  },
  {
   "cell_type": "code",
   "execution_count": 16,
   "metadata": {},
   "outputs": [
    {
     "data": {
      "text/plain": [
       "['产品整合年月出乎意料的是公司宣布将完全脱离磨床业务该项业务被出售给隶属于柯尔柏集团公司的斯来福林集团瓦尔特公司近年的漫长和高度成功的磨床制造历史宣告结束',\n",
       " '第二年随着推出采用涂层的',\n",
       " '老虎可转位刀片更有力的证明了企业的创新力再次为刀具寿命和生产效率设立了新标准',\n",
       " '公司步入世纪如果说百年的丰富经验主要强化了公司在高性能钻头领域的新优势那么则是为公司深化了研发上的特殊能力',\n",
       " '从此以后瓦尔特集团的这两个新成员分别以瓦尔特蒂泰克斯']"
      ]
     },
     "execution_count": 16,
     "metadata": {},
     "output_type": "execute_result"
    }
   ],
   "source": [
    "Contents[30000][:5]"
   ]
  },
  {
   "cell_type": "code",
   "execution_count": 17,
   "metadata": {},
   "outputs": [
    {
     "name": "stdout",
     "output_type": "stream",
     "text": [
      "一共有467121个词语/字。\n"
     ]
    }
   ],
   "source": [
    "word_embeddings = {}\n",
    "f = open('./sgns.financial.word', encoding='utf-8')\n",
    "for line in f:\n",
    "    # 把第一行的内容去掉\n",
    "    if '467370 300\\n' not in line:\n",
    "        values = line.split()\n",
    "        # 第一个元素是词语\n",
    "        word = values[0]\n",
    "        embedding = np.asarray(values[1:], dtype='float32')\n",
    "        word_embeddings[word] = embedding\n",
    "f.close()\n",
    "print(\"一共有\"+str(len(word_embeddings))+\"个词语/字。\")"
   ]
  },
  {
   "cell_type": "code",
   "execution_count": 18,
   "metadata": {},
   "outputs": [
    {
     "data": {
      "text/plain": [
       "True"
      ]
     },
     "execution_count": 18,
     "metadata": {},
     "output_type": "execute_result"
    }
   ],
   "source": [
    "\"我们\" in word_embeddings.keys()"
   ]
  },
  {
   "cell_type": "code",
   "execution_count": 19,
   "metadata": {},
   "outputs": [
    {
     "data": {
      "text/plain": [
       "{'期货市场': 0, '产品价格': 1, '金融市场': 2, 'A股': 3, '行业未来前景': 4, '新业务/新产品': 5}"
      ]
     },
     "execution_count": 19,
     "metadata": {},
     "output_type": "execute_result"
    }
   ],
   "source": [
    "labels_list"
   ]
  },
  {
   "cell_type": "code",
   "execution_count": 20,
   "metadata": {
    "tags": []
   },
   "outputs": [
    {
     "name": "stderr",
     "output_type": "stream",
     "text": [
      "Building prefix dict from the default dictionary ...\n",
      "Loading model from cache C:\\Users\\yinzh\\AppData\\Local\\Temp\\jieba.cache\n",
      "Loading model cost 0.747 seconds.\n",
      "Prefix dict has been built successfully.\n"
     ]
    }
   ],
   "source": [
    "for i in range(length):\n",
    "    if labels[i] == []:\n",
    "        continue\n",
    "    \n",
    "    # 分词\n",
    "    cons = []\n",
    "    cons.extend(jieba.lcut(titles[i], cut_all=False))\n",
    "    for c in Contents[i]:\n",
    "        cons.extend(jieba.lcut(c, cut_all=False))\n",
    "    \n",
    "    x = []\n",
    "    # 去除停用词\n",
    "    for con in cons:\n",
    "        if con not in stopwords and con != \"\":\n",
    "            if con in word_embeddings.keys():\n",
    "                x.append(con)\n",
    "\n",
    "    # 少于100个词的不要\n",
    "    if len(x) < 100:\n",
    "        continue\n",
    "    \n",
    "    \n",
    "    \n",
    "    # 加载标签y\n",
    "    tmp = []\n",
    "    for label in labels[i]:\n",
    "        if label in labels_list.keys():\n",
    "            tmp.append(labels_list[label])\n",
    "        else:\n",
    "            tmp = None\n",
    "            break\n",
    "    if tmp == None:\n",
    "        continue\n",
    "        \n",
    "    X.append(x)\n",
    "    y.append(tmp)"
   ]
  },
  {
   "cell_type": "code",
   "execution_count": 21,
   "metadata": {},
   "outputs": [
    {
     "name": "stdout",
     "output_type": "stream",
     "text": [
      "4673 4673\n"
     ]
    }
   ],
   "source": [
    "print(len(X),len(y))"
   ]
  },
  {
   "cell_type": "code",
   "execution_count": 22,
   "metadata": {},
   "outputs": [],
   "source": [
    "# # 取前12500条\n",
    "# X = X[:12500]\n",
    "# y = y[:12500]"
   ]
  },
  {
   "cell_type": "code",
   "execution_count": 23,
   "metadata": {
    "tags": []
   },
   "outputs": [],
   "source": [
    "f_X = open('./X_.txt','w', encoding='utf-8')\n",
    "for tmps in X:\n",
    "    for tmp in tmps:\n",
    "        # print(tmp)\n",
    "        f_X.write(\"{} \".format(tmp))\n",
    "    f_X.write(\"\\n\")\n",
    "f_X.close()\n",
    "\n",
    "f_Y = open('./Y_.txt','w', encoding='utf-8')\n",
    "for tmps in y:\n",
    "    for tmp in tmps:\n",
    "        # print(tmp)\n",
    "        f_Y.write(\"{} \".format(tmp))\n",
    "    f_Y.write(\"\\n\")\n",
    "f_Y.close()"
   ]
  },
  {
   "cell_type": "code",
   "execution_count": 24,
   "metadata": {},
   "outputs": [
    {
     "data": {
      "text/plain": [
       "8086"
      ]
     },
     "execution_count": 24,
     "metadata": {},
     "output_type": "execute_result"
    }
   ],
   "source": [
    "max_len = 0\n",
    "for x in X:\n",
    "    max_len = max(max_len, len(x))\n",
    "max_len"
   ]
  },
  {
   "cell_type": "code",
   "execution_count": 25,
   "metadata": {},
   "outputs": [
    {
     "data": {
      "image/png": "[encoded data removed]",
      "text/plain": [
       "<Figure size 432x288 with 1 Axes>"
      ]
     },
     "metadata": {
      "needs_background": "light"
     },
     "output_type": "display_data"
    }
   ],
   "source": [
    "length_X = []\n",
    "for x in X:\n",
    "    length_X.append(len(x))\n",
    "plt.figure()\n",
    "plt.hist(length_X,bins=100)\n",
    "plt.xlabel(\"phrase length\")\n",
    "plt.ylabel(\"frequency\")\n",
    "plt.title(\"Data Length\")\n",
    "plt.show()"
   ]
  },
  {
   "cell_type": "markdown",
   "metadata": {},
   "source": [
    "词长较短的较多，词长较长的占比很少"
   ]
  },
  {
   "cell_type": "code",
   "execution_count": 26,
   "metadata": {},
   "outputs": [
    {
     "data": {
      "image/png": "[encoded data removed]",
      "text/plain": [
       "<Figure size 432x288 with 1 Axes>"
      ]
     },
     "metadata": {
      "needs_background": "light"
     },
     "output_type": "display_data"
    }
   ],
   "source": [
    "label_y = []\n",
    "for ts in y:\n",
    "    for t in ts:\n",
    "        label_y.append(t)\n",
    "plt.figure()\n",
    "plt.hist(label_y,bins=100)\n",
    "plt.xlabel(\"label\")\n",
    "plt.ylabel(\"frequency\")\n",
    "plt.title(\"Label Information\")\n",
    "plt.show()"
   ]
  },
  {
   "cell_type": "markdown",
   "metadata": {},
   "source": [
    "标签分布不均"
   ]
  },
  {
   "cell_type": "code",
   "execution_count": 27,
   "metadata": {},
   "outputs": [],
   "source": [
    "y_ = []\n",
    "for ts in y:\n",
    "    zero_array = np.zeros(labels_len)\n",
    "    for t in ts:\n",
    "        zero_array[t] = 1\n",
    "    y_.append(zero_array)"
   ]
  },
  {
   "cell_type": "code",
   "execution_count": 28,
   "metadata": {},
   "outputs": [
    {
     "name": "stdout",
     "output_type": "stream",
     "text": [
      "(4673, 6)\n"
     ]
    }
   ],
   "source": [
    "y_ = np.array(y_)\n",
    "print(y_.shape)"
   ]
  },
  {
   "cell_type": "code",
   "execution_count": 29,
   "metadata": {},
   "outputs": [
    {
     "data": {
      "text/plain": [
       "array([[0., 0., 0., 0., 1., 1.],\n",
       "       [1., 0., 0., 0., 0., 0.]])"
      ]
     },
     "execution_count": 29,
     "metadata": {},
     "output_type": "execute_result"
    }
   ],
   "source": [
    "y_[:2]"
   ]
  },
  {
   "cell_type": "code",
   "execution_count": 30,
   "metadata": {},
   "outputs": [
    {
     "data": {
      "text/plain": [
       "300"
      ]
     },
     "execution_count": 30,
     "metadata": {},
     "output_type": "execute_result"
    }
   ],
   "source": [
    "len(word_embeddings['我们'])"
   ]
  },
  {
   "cell_type": "code",
   "execution_count": 31,
   "metadata": {},
   "outputs": [],
   "source": [
    "X_ = []\n",
    "for xs in X:\n",
    "    tmp = []\n",
    "    for x in xs:\n",
    "        tmp.append(word_embeddings[x])\n",
    "        \n",
    "        # 只保留前300个词向量\n",
    "        if len(tmp) >= 300:\n",
    "            break\n",
    "    \n",
    "    # 补零到300\n",
    "    while len(tmp) < 300:\n",
    "        tmp.append(np.zeros(300))\n",
    "    X_.append(tmp)"
   ]
  }
 ],
 "metadata": {
  "kernelspec": {
   "display_name": "Python 3",
   "language": "python",
   "name": "python3"
  },
  "language_info": {
   "codemirror_mode": {
    "name": "ipython",
    "version": 3
   },
   "file_extension": ".py",
   "mimetype": "text/x-python",
   "name": "python",
   "nbconvert_exporter": "python",
   "pygments_lexer": "ipython3",
   "version": "3.7.0"
  },
  "latex_envs": {
   "LaTeX_envs_menu_present": true,
   "autoclose": false,
   "autocomplete": true,
   "bibliofile": "biblio.bib",
   "cite_by": "apalike",
   "current_citInitial": 1,
   "eqLabelWithNumbers": true,
   "eqNumInitial": 1,
   "hotkeys": {
    "equation": "Ctrl-E",
    "itemize": "Ctrl-I"
   },
   "labels_anchors": false,
   "latex_user_defs": false,
   "report_style_numbering": false,
   "user_envs_cfg": false
  },
  "nbTranslate": {
   "displayLangs": [
    "*"
   ],
   "hotkey": "alt-t",
   "langInMainMenu": true,
   "sourceLang": "en",
   "targetLang": "fr",
   "useGoogleTranslate": true
  },
  "toc": {
   "base_numbering": 1,
   "nav_menu": {},
   "number_sections": true,
   "sideBar": true,
   "skip_h1_title": false,
   "title_cell": "Table of Contents",
   "title_sidebar": "Contents",
   "toc_cell": false,
   "toc_position": {},
   "toc_section_display": true,
   "toc_window_display": false
  },
  "varInspector": {
   "cols": {
    "lenName": 16,
    "lenType": 16,
    "lenVar": 40
   },
   "kernels_config": {
    "python": {
     "delete_cmd_postfix": "",
     "delete_cmd_prefix": "del ",
     "library": "var_list.py",
     "varRefreshCmd": "print(var_dic_list())"
    },
    "r": {
     "delete_cmd_postfix": ") ",
     "delete_cmd_prefix": "rm(",
     "library": "var_list.r",
     "varRefreshCmd": "cat(var_dic_list()) "
    }
   },
   "types_to_exclude": [
    "module",
    "function",
    "builtin_function_or_method",
    "instance",
    "_Feature"
   ],
   "window_display": false
  }
 },
 "nbformat": 4,
 "nbformat_minor": 2
}
